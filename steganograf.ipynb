{
 "cells": [
  {
   "cell_type": "code",
   "execution_count": null,
   "id": "b6c37521",
   "metadata": {},
   "outputs": [],
   "source": [
    "#gerekli tüm kitaplıkları içe aktarıyoruz\n",
    "import cv2\n",
    "import numpy as np\n",
    "import types\n",
    "from google.colab.patches import cv2_imshow"
   ]
  },
  {
   "cell_type": "code",
   "execution_count": null,
   "id": "78384cff",
   "metadata": {},
   "outputs": [],
   "source": [
    "#Girilen veri türünü binary yapısına dönüştürmek için bir fonksiyon tanımlıyoruz,\n",
    "#bunu kodlama ve kod çözme aşamasında gizli verileri ve piksel değerlerini ikiliye dönüştürmek için de kullanacağız. \n",
    "def messageToBinary(message):\n",
    "  if type(message) == str:\n",
    "    return ''.join([ format(ord(i), \"08b\") for i in message ])\n",
    "  elif type(message) == bytes or type(message) == np.ndarray:\n",
    "    return [ format(i, \"08b\") for i in message ]\n",
    "  elif type(message) == int or type(message) == np.uint8:\n",
    "    return format(message, \"08b\")\n",
    "  else:\n",
    "    raise TypeError(\"Giriş türü desteklenmiyor\")"
   ]
  },
  {
   "cell_type": "code",
   "execution_count": null,
   "id": "30e1c6d9",
   "metadata": {},
   "outputs": [],
   "source": [
    "# Gizli mesajı görüntüye gizleme işlevi\n",
    "def hideData(image, secret_message):\n",
    "\n",
    "  # kodlamak için maksimum baytı hesaplıyoruz\n",
    "  n_bytes = image.shape[0] * image.shape[1] * 3 // 8\n",
    "  print(\"Maximum bytes to encode:\", n_bytes)\n",
    "\n",
    "  #Kodlanacak bayt sayısının görüntüdeki maksimum bayttan az olup olmadığını kontrol ediyoruz\n",
    "  if len(secret_message) > n_bytes:\n",
    "      raise ValueError(\"Error encountered insufficient bytes, need bigger image or less data !!\")\n",
    "  \n",
    "  secret_message += \"#####\" # sınırlandırma olarak herhangi bir dize kullanabiliriz\n",
    "\n",
    "  data_index = 0\n",
    "  # messageToBinary() işlevini kullanarak girdi verilerini binary biçime dönüştürüyoruz\n",
    "  binary_secret_msg = messageToBinary(secret_message)\n",
    "\n",
    "  data_len = len(binary_secret_msg) #Gizlenmesi gereken verilerin uzunluğunu buluyoruz\n",
    "  for values in image:\n",
    "      for pixel in values:\n",
    "          # RGB değerlerini ikili biçime dönüştürüyoruz\n",
    "          r, g, b = messageToBinary(pixel)\n",
    "          # piksellerin en son bitine verileri ekliyoruz\n",
    "          if data_index < data_len:\n",
    "              # verileri kırmızı pikselin en son bitine ekliyoruz\n",
    "              pixel[0] = int(r[:-1] + binary_secret_msg[data_index], 2)\n",
    "              data_index += 1\n",
    "          if data_index < data_len:\n",
    "              # verileri yeşil pikselin en son bitine ekliyoruz\n",
    "              pixel[1] = int(g[:-1] + binary_secret_msg[data_index], 2)\n",
    "              data_index += 1\n",
    "          if data_index < data_len:\n",
    "              # verileri mavi pikselin en son bitine ekliyoruz\n",
    "              pixel[2] = int(b[:-1] + binary_secret_msg[data_index], 2)\n",
    "              data_index += 1\n",
    "          # veriler kodlanmışsa, döngüden çıkarıyoruz\n",
    "          if data_index >= data_len:\n",
    "              break\n",
    "\n",
    "  return image"
   ]
  },
  {
   "cell_type": "code",
   "execution_count": null,
   "id": "9f732dfc",
   "metadata": {},
   "outputs": [],
   "source": [
    "def showData(image):\n",
    "\n",
    "  binary_data = \"\"\n",
    "  for values in image:\n",
    "      for pixel in values:\n",
    "          r, g, b = messageToBinary(pixel) #kırmızı, yeşil ve mavi değerleri ikili biçime dönüştürüyoruz\n",
    "          binary_data += r[-1] #kırmızı pikselin en son bitinden veri çıkarma\n",
    "          binary_data += g[-1] #yeşil pikselin en son bitinden veri çıkarma \n",
    "          binary_data += b[-1] #mavi pikselin en son bitinden veri çıkarma\n",
    "  # 8 bit ile bölme\n",
    "  all_bytes = [ binary_data[i: i+8] for i in range(0, len(binary_data), 8) ]\n",
    "  # bitlerden karakterlere dönüştürme\n",
    "  decoded_data = \"\"\n",
    "  for byte in all_bytes:\n",
    "      decoded_data += chr(int(byte, 2))\n",
    "      if decoded_data[-5:] == \"#####\": #\"#####\" olan sınırlayıcıya ulaşıp ulaşmadığımızı kontrol ediyoruz\n",
    "          break\n",
    "  return decoded_data[:-5] #orijinal gizli mesajı göstermek için sınırlayıcıyı kaldırıyoruz"
   ]
  },
  {
   "cell_type": "code",
   "execution_count": null,
   "id": "3a884128",
   "metadata": {},
   "outputs": [],
   "source": [
    "# Verileri görüntüye kodlama\n",
    "# Girilen görüntü adını ve gizli mesajı kullanıcıdan girdi olarak alan ve mesajı kodlamak için hideData()'yı çağıran fonksiyonu ekliyoruz\n",
    "def encode_text(): \n",
    "  image_name = input(\"Resim adını girin (uzantılı): \") \n",
    "  image = cv2.imread(image_name) # OpenCV-Python kullanarak giriş görüntüsünü okuyoruz\n",
    "  \n",
    "  #foto hakkında detaylar\n",
    "  print(\"Resmin bayt sayısı: \",image.shape) #içindeki bayt sayısını hesaplamak için görüntünün şeklini kontrol ediyoruz\n",
    "  print(\"Orijinal görüntü aşağıda gösterildiği gibidir: \")\n",
    "  resized_image = cv2.resize(image, (500, 500)) #görüntüyü ihtiyacınıza göre yeniden boyutlandırıyoruz\n",
    "  cv2_imshow(resized_image) #görüntüyü gösteriyoruz\n",
    "  \n",
    "      \n",
    "  data = input(\"Kodlanacak verileri girin: \") \n",
    "  if (len(data) == 0): \n",
    "    raise ValueError('Veri Boş')\n",
    "  \n",
    "  filename = input(\"Yeni kodlanmış resmin adını girin (uzantılı): \")\n",
    "  encoded_image = hideData(image, data) # gizli mesajı seçilen görüntüye gizlemek için hideData işlevini çağırıyoruz\n",
    "  cv2.imwrite(filename, encoded_image)"
   ]
  },
  {
   "cell_type": "code",
   "execution_count": null,
   "id": "e603daf2",
   "metadata": {},
   "outputs": [],
   "source": [
    "# Görüntüdeki verilerin kodunu çözme\n",
    "def decode_text():\n",
    "  # gizli resmi içeren resmi okuyoruz\n",
    "  image_name = input(\"Kodunu çözmek istediğiniz steganograflı görüntünün adını girin (uzantısıyla birlikte):\") \n",
    "  image = cv2.imread(image_name) #cv2.imread() kullanarak görüntüyü okuyoruz\n",
    "\n",
    "  print(\"Steganographed görüntü aşağıda gösterildiği gibidir: \")\n",
    "  resized_image = cv2.resize(image, (500, 500))  #görüntüyü ihtiyacınıza göre yeniden boyutlandırıyoruz\n",
    "  cv2_imshow(resized_image) #görüntüyü gösteriyoruz\n",
    "    \n",
    "  text = showData(image)\n",
    "  return text"
   ]
  },
  {
   "cell_type": "code",
   "execution_count": null,
   "id": "96dac252",
   "metadata": {},
   "outputs": [],
   "source": [
    "# Ana İşlev         \n",
    "def Steganography(): \n",
    "    a = input(\"Görüntü Steganografisi \\n 1. Verileri kodla \\n 2. Verilerin kodunu çöz \\n Girişiniz: \")\n",
    "    userinput = int(a)\n",
    "    if (userinput == 1):\n",
    "      print(\"\\nKodlama....\")\n",
    "      encode_text() \n",
    "          \n",
    "    elif (userinput == 2):\n",
    "      print(\"\\nÇözümleme....\") \n",
    "      print(\"Kodu çözülen mesaj \" + decode_text()) \n",
    "    else: \n",
    "        raise Exception(\"Doğru girişi girin\")"
   ]
  },
  {
   "cell_type": "code",
   "execution_count": null,
   "id": "0837d21e",
   "metadata": {},
   "outputs": [],
   "source": [
    "Steganography()"
   ]
  }
 ],
 "metadata": {
  "kernelspec": {
   "display_name": "Python 3 (ipykernel)",
   "language": "python",
   "name": "python3"
  },
  "language_info": {
   "codemirror_mode": {
    "name": "ipython",
    "version": 3
   },
   "file_extension": ".py",
   "mimetype": "text/x-python",
   "name": "python",
   "nbconvert_exporter": "python",
   "pygments_lexer": "ipython3",
   "version": "3.9.12"
  }
 },
 "nbformat": 4,
 "nbformat_minor": 5
}
